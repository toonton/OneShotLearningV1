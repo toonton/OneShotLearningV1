{
  "cells": [
    {
      "cell_type": "markdown",
      "metadata": {
        "id": "view-in-github",
        "colab_type": "text"
      },
      "source": [
        "<a href=\"https://colab.research.google.com/github/toonton/OneShotLearningV1/blob/main/real_projee!!.ipynb\" target=\"_parent\"><img src=\"https://colab.research.google.com/assets/colab-badge.svg\" alt=\"Open In Colab\"/></a>"
      ]
    },
    {
      "cell_type": "code",
      "execution_count": null,
      "metadata": {
        "colab": {
          "base_uri": "https://localhost:8080/"
        },
        "id": "_eNzDQjB0eGr",
        "outputId": "57099b4e-2029-40e3-a1f1-a28ca690069f"
      },
      "outputs": [
        {
          "output_type": "stream",
          "name": "stdout",
          "text": [
            "WARNING:tensorflow:No training configuration found in the save file, so the model was *not* compiled. Compile it manually.\n",
            "[<KerasTensor: shape=(None, 160, 160, 3) dtype=float32 (created by layer 'input_1')>]\n",
            "[<KerasTensor: shape=(None, 128) dtype=float32 (created by layer 'Bottleneck_BatchNorm')>]\n"
          ]
        }
      ],
      "source": [
        "\n",
        "# example of loading the keras facenet model\n",
        "from keras.models import load_model\n",
        "# load the model\n",
        "model = load_model('/content/drive/MyDrive/keras-facenet/model/facenet_keras.h5')\n",
        "# summarize input and output shape\n",
        "print(model.inputs)\n",
        "print(model.outputs)"
      ]
    },
    {
      "cell_type": "code",
      "execution_count": null,
      "metadata": {
        "colab": {
          "base_uri": "https://localhost:8080/"
        },
        "id": "EqYxqoOk0wM_",
        "outputId": "fb480ca0-6f44-4aa1-e510-b28acbdd86ba"
      },
      "outputs": [
        {
          "output_type": "stream",
          "name": "stdout",
          "text": [
            "0.1.0\n"
          ]
        }
      ],
      "source": [
        "# load image from file\n",
        "from mtcnn import MTCNN\n",
        "from PIL import Image\n",
        "import numpy as np\n",
        "# print version\n",
        "print(mtcnn.__version__)\n",
        "image = Image.open('/content/drive/MyDrive/סייבר כן מעניין/datasets/PicturesForDS/0.png')\n",
        "# convert to RGB, if needed\n",
        "image = image.convert('RGB')\n",
        "# convert to array\n",
        "pixels = np.array(image)"
      ]
    },
    {
      "cell_type": "code",
      "source": [
        "pip install mtcnn"
      ],
      "metadata": {
        "colab": {
          "base_uri": "https://localhost:8080/"
        },
        "id": "UFzV2HebbzbE",
        "outputId": "d571f947-b91a-422f-e0ff-c21f22f67b0a"
      },
      "execution_count": null,
      "outputs": [
        {
          "output_type": "stream",
          "name": "stdout",
          "text": [
            "Collecting mtcnn\n",
            "  Downloading mtcnn-0.1.1-py3-none-any.whl (2.3 MB)\n",
            "\u001b[?25l\r\u001b[K     |▏                               | 10 kB 25.7 MB/s eta 0:00:01\r\u001b[K     |▎                               | 20 kB 30.3 MB/s eta 0:00:01\r\u001b[K     |▍                               | 30 kB 36.6 MB/s eta 0:00:01\r\u001b[K     |▋                               | 40 kB 34.1 MB/s eta 0:00:01\r\u001b[K     |▊                               | 51 kB 31.4 MB/s eta 0:00:01\r\u001b[K     |▉                               | 61 kB 23.5 MB/s eta 0:00:01\r\u001b[K     |█                               | 71 kB 21.1 MB/s eta 0:00:01\r\u001b[K     |█▏                              | 81 kB 22.1 MB/s eta 0:00:01\r\u001b[K     |█▎                              | 92 kB 23.7 MB/s eta 0:00:01\r\u001b[K     |█▌                              | 102 kB 24.5 MB/s eta 0:00:01\r\u001b[K     |█▋                              | 112 kB 24.5 MB/s eta 0:00:01\r\u001b[K     |█▊                              | 122 kB 24.5 MB/s eta 0:00:01\r\u001b[K     |█▉                              | 133 kB 24.5 MB/s eta 0:00:01\r\u001b[K     |██                              | 143 kB 24.5 MB/s eta 0:00:01\r\u001b[K     |██▏                             | 153 kB 24.5 MB/s eta 0:00:01\r\u001b[K     |██▎                             | 163 kB 24.5 MB/s eta 0:00:01\r\u001b[K     |██▌                             | 174 kB 24.5 MB/s eta 0:00:01\r\u001b[K     |██▋                             | 184 kB 24.5 MB/s eta 0:00:01\r\u001b[K     |██▊                             | 194 kB 24.5 MB/s eta 0:00:01\r\u001b[K     |███                             | 204 kB 24.5 MB/s eta 0:00:01\r\u001b[K     |███                             | 215 kB 24.5 MB/s eta 0:00:01\r\u001b[K     |███▏                            | 225 kB 24.5 MB/s eta 0:00:01\r\u001b[K     |███▍                            | 235 kB 24.5 MB/s eta 0:00:01\r\u001b[K     |███▌                            | 245 kB 24.5 MB/s eta 0:00:01\r\u001b[K     |███▋                            | 256 kB 24.5 MB/s eta 0:00:01\r\u001b[K     |███▊                            | 266 kB 24.5 MB/s eta 0:00:01\r\u001b[K     |████                            | 276 kB 24.5 MB/s eta 0:00:01\r\u001b[K     |████                            | 286 kB 24.5 MB/s eta 0:00:01\r\u001b[K     |████▏                           | 296 kB 24.5 MB/s eta 0:00:01\r\u001b[K     |████▍                           | 307 kB 24.5 MB/s eta 0:00:01\r\u001b[K     |████▌                           | 317 kB 24.5 MB/s eta 0:00:01\r\u001b[K     |████▋                           | 327 kB 24.5 MB/s eta 0:00:01\r\u001b[K     |████▉                           | 337 kB 24.5 MB/s eta 0:00:01\r\u001b[K     |█████                           | 348 kB 24.5 MB/s eta 0:00:01\r\u001b[K     |█████                           | 358 kB 24.5 MB/s eta 0:00:01\r\u001b[K     |█████▏                          | 368 kB 24.5 MB/s eta 0:00:01\r\u001b[K     |█████▍                          | 378 kB 24.5 MB/s eta 0:00:01\r\u001b[K     |█████▌                          | 389 kB 24.5 MB/s eta 0:00:01\r\u001b[K     |█████▋                          | 399 kB 24.5 MB/s eta 0:00:01\r\u001b[K     |█████▉                          | 409 kB 24.5 MB/s eta 0:00:01\r\u001b[K     |██████                          | 419 kB 24.5 MB/s eta 0:00:01\r\u001b[K     |██████                          | 430 kB 24.5 MB/s eta 0:00:01\r\u001b[K     |██████▎                         | 440 kB 24.5 MB/s eta 0:00:01\r\u001b[K     |██████▍                         | 450 kB 24.5 MB/s eta 0:00:01\r\u001b[K     |██████▌                         | 460 kB 24.5 MB/s eta 0:00:01\r\u001b[K     |██████▊                         | 471 kB 24.5 MB/s eta 0:00:01\r\u001b[K     |██████▉                         | 481 kB 24.5 MB/s eta 0:00:01\r\u001b[K     |███████                         | 491 kB 24.5 MB/s eta 0:00:01\r\u001b[K     |███████                         | 501 kB 24.5 MB/s eta 0:00:01\r\u001b[K     |███████▎                        | 512 kB 24.5 MB/s eta 0:00:01\r\u001b[K     |███████▍                        | 522 kB 24.5 MB/s eta 0:00:01\r\u001b[K     |███████▌                        | 532 kB 24.5 MB/s eta 0:00:01\r\u001b[K     |███████▊                        | 542 kB 24.5 MB/s eta 0:00:01\r\u001b[K     |███████▉                        | 552 kB 24.5 MB/s eta 0:00:01\r\u001b[K     |████████                        | 563 kB 24.5 MB/s eta 0:00:01\r\u001b[K     |████████▏                       | 573 kB 24.5 MB/s eta 0:00:01\r\u001b[K     |████████▎                       | 583 kB 24.5 MB/s eta 0:00:01\r\u001b[K     |████████▍                       | 593 kB 24.5 MB/s eta 0:00:01\r\u001b[K     |████████▌                       | 604 kB 24.5 MB/s eta 0:00:01\r\u001b[K     |████████▊                       | 614 kB 24.5 MB/s eta 0:00:01\r\u001b[K     |████████▉                       | 624 kB 24.5 MB/s eta 0:00:01\r\u001b[K     |█████████                       | 634 kB 24.5 MB/s eta 0:00:01\r\u001b[K     |█████████▏                      | 645 kB 24.5 MB/s eta 0:00:01\r\u001b[K     |█████████▎                      | 655 kB 24.5 MB/s eta 0:00:01\r\u001b[K     |█████████▍                      | 665 kB 24.5 MB/s eta 0:00:01\r\u001b[K     |█████████▋                      | 675 kB 24.5 MB/s eta 0:00:01\r\u001b[K     |█████████▊                      | 686 kB 24.5 MB/s eta 0:00:01\r\u001b[K     |█████████▉                      | 696 kB 24.5 MB/s eta 0:00:01\r\u001b[K     |██████████                      | 706 kB 24.5 MB/s eta 0:00:01\r\u001b[K     |██████████▏                     | 716 kB 24.5 MB/s eta 0:00:01\r\u001b[K     |██████████▎                     | 727 kB 24.5 MB/s eta 0:00:01\r\u001b[K     |██████████▍                     | 737 kB 24.5 MB/s eta 0:00:01\r\u001b[K     |██████████▋                     | 747 kB 24.5 MB/s eta 0:00:01\r\u001b[K     |██████████▊                     | 757 kB 24.5 MB/s eta 0:00:01\r\u001b[K     |██████████▉                     | 768 kB 24.5 MB/s eta 0:00:01\r\u001b[K     |███████████                     | 778 kB 24.5 MB/s eta 0:00:01\r\u001b[K     |███████████▏                    | 788 kB 24.5 MB/s eta 0:00:01\r\u001b[K     |███████████▎                    | 798 kB 24.5 MB/s eta 0:00:01\r\u001b[K     |███████████▌                    | 808 kB 24.5 MB/s eta 0:00:01\r\u001b[K     |███████████▋                    | 819 kB 24.5 MB/s eta 0:00:01\r\u001b[K     |███████████▊                    | 829 kB 24.5 MB/s eta 0:00:01\r\u001b[K     |███████████▉                    | 839 kB 24.5 MB/s eta 0:00:01\r\u001b[K     |████████████                    | 849 kB 24.5 MB/s eta 0:00:01\r\u001b[K     |████████████▏                   | 860 kB 24.5 MB/s eta 0:00:01\r\u001b[K     |████████████▎                   | 870 kB 24.5 MB/s eta 0:00:01\r\u001b[K     |████████████▌                   | 880 kB 24.5 MB/s eta 0:00:01\r\u001b[K     |████████████▋                   | 890 kB 24.5 MB/s eta 0:00:01\r\u001b[K     |████████████▊                   | 901 kB 24.5 MB/s eta 0:00:01\r\u001b[K     |█████████████                   | 911 kB 24.5 MB/s eta 0:00:01\r\u001b[K     |█████████████                   | 921 kB 24.5 MB/s eta 0:00:01\r\u001b[K     |█████████████▏                  | 931 kB 24.5 MB/s eta 0:00:01\r\u001b[K     |█████████████▍                  | 942 kB 24.5 MB/s eta 0:00:01\r\u001b[K     |█████████████▌                  | 952 kB 24.5 MB/s eta 0:00:01\r\u001b[K     |█████████████▋                  | 962 kB 24.5 MB/s eta 0:00:01\r\u001b[K     |█████████████▊                  | 972 kB 24.5 MB/s eta 0:00:01\r\u001b[K     |██████████████                  | 983 kB 24.5 MB/s eta 0:00:01\r\u001b[K     |██████████████                  | 993 kB 24.5 MB/s eta 0:00:01\r\u001b[K     |██████████████▏                 | 1.0 MB 24.5 MB/s eta 0:00:01\r\u001b[K     |██████████████▍                 | 1.0 MB 24.5 MB/s eta 0:00:01\r\u001b[K     |██████████████▌                 | 1.0 MB 24.5 MB/s eta 0:00:01\r\u001b[K     |██████████████▋                 | 1.0 MB 24.5 MB/s eta 0:00:01\r\u001b[K     |██████████████▉                 | 1.0 MB 24.5 MB/s eta 0:00:01\r\u001b[K     |███████████████                 | 1.1 MB 24.5 MB/s eta 0:00:01\r\u001b[K     |███████████████                 | 1.1 MB 24.5 MB/s eta 0:00:01\r\u001b[K     |███████████████▏                | 1.1 MB 24.5 MB/s eta 0:00:01\r\u001b[K     |███████████████▍                | 1.1 MB 24.5 MB/s eta 0:00:01\r\u001b[K     |███████████████▌                | 1.1 MB 24.5 MB/s eta 0:00:01\r\u001b[K     |███████████████▋                | 1.1 MB 24.5 MB/s eta 0:00:01\r\u001b[K     |███████████████▉                | 1.1 MB 24.5 MB/s eta 0:00:01\r\u001b[K     |████████████████                | 1.1 MB 24.5 MB/s eta 0:00:01\r\u001b[K     |████████████████                | 1.1 MB 24.5 MB/s eta 0:00:01\r\u001b[K     |████████████████▎               | 1.1 MB 24.5 MB/s eta 0:00:01\r\u001b[K     |████████████████▍               | 1.2 MB 24.5 MB/s eta 0:00:01\r\u001b[K     |████████████████▌               | 1.2 MB 24.5 MB/s eta 0:00:01\r\u001b[K     |████████████████▊               | 1.2 MB 24.5 MB/s eta 0:00:01\r\u001b[K     |████████████████▉               | 1.2 MB 24.5 MB/s eta 0:00:01\r\u001b[K     |█████████████████               | 1.2 MB 24.5 MB/s eta 0:00:01\r\u001b[K     |█████████████████               | 1.2 MB 24.5 MB/s eta 0:00:01\r\u001b[K     |█████████████████▎              | 1.2 MB 24.5 MB/s eta 0:00:01\r\u001b[K     |█████████████████▍              | 1.2 MB 24.5 MB/s eta 0:00:01\r\u001b[K     |█████████████████▌              | 1.2 MB 24.5 MB/s eta 0:00:01\r\u001b[K     |█████████████████▊              | 1.2 MB 24.5 MB/s eta 0:00:01\r\u001b[K     |█████████████████▉              | 1.3 MB 24.5 MB/s eta 0:00:01\r\u001b[K     |██████████████████              | 1.3 MB 24.5 MB/s eta 0:00:01\r\u001b[K     |██████████████████▏             | 1.3 MB 24.5 MB/s eta 0:00:01\r\u001b[K     |██████████████████▎             | 1.3 MB 24.5 MB/s eta 0:00:01\r\u001b[K     |██████████████████▍             | 1.3 MB 24.5 MB/s eta 0:00:01\r\u001b[K     |██████████████████▌             | 1.3 MB 24.5 MB/s eta 0:00:01\r\u001b[K     |██████████████████▊             | 1.3 MB 24.5 MB/s eta 0:00:01\r\u001b[K     |██████████████████▉             | 1.3 MB 24.5 MB/s eta 0:00:01\r\u001b[K     |███████████████████             | 1.3 MB 24.5 MB/s eta 0:00:01\r\u001b[K     |███████████████████▏            | 1.4 MB 24.5 MB/s eta 0:00:01\r\u001b[K     |███████████████████▎            | 1.4 MB 24.5 MB/s eta 0:00:01\r\u001b[K     |███████████████████▍            | 1.4 MB 24.5 MB/s eta 0:00:01\r\u001b[K     |███████████████████▋            | 1.4 MB 24.5 MB/s eta 0:00:01\r\u001b[K     |███████████████████▊            | 1.4 MB 24.5 MB/s eta 0:00:01\r\u001b[K     |███████████████████▉            | 1.4 MB 24.5 MB/s eta 0:00:01\r\u001b[K     |████████████████████            | 1.4 MB 24.5 MB/s eta 0:00:01\r\u001b[K     |████████████████████▏           | 1.4 MB 24.5 MB/s eta 0:00:01\r\u001b[K     |████████████████████▎           | 1.4 MB 24.5 MB/s eta 0:00:01\r\u001b[K     |████████████████████▍           | 1.4 MB 24.5 MB/s eta 0:00:01\r\u001b[K     |████████████████████▋           | 1.5 MB 24.5 MB/s eta 0:00:01\r\u001b[K     |████████████████████▊           | 1.5 MB 24.5 MB/s eta 0:00:01\r\u001b[K     |████████████████████▉           | 1.5 MB 24.5 MB/s eta 0:00:01\r\u001b[K     |█████████████████████           | 1.5 MB 24.5 MB/s eta 0:00:01\r\u001b[K     |█████████████████████▏          | 1.5 MB 24.5 MB/s eta 0:00:01\r\u001b[K     |█████████████████████▎          | 1.5 MB 24.5 MB/s eta 0:00:01\r\u001b[K     |█████████████████████▌          | 1.5 MB 24.5 MB/s eta 0:00:01\r\u001b[K     |█████████████████████▋          | 1.5 MB 24.5 MB/s eta 0:00:01\r\u001b[K     |█████████████████████▊          | 1.5 MB 24.5 MB/s eta 0:00:01\r\u001b[K     |██████████████████████          | 1.5 MB 24.5 MB/s eta 0:00:01\r\u001b[K     |██████████████████████          | 1.6 MB 24.5 MB/s eta 0:00:01\r\u001b[K     |██████████████████████▏         | 1.6 MB 24.5 MB/s eta 0:00:01\r\u001b[K     |██████████████████████▎         | 1.6 MB 24.5 MB/s eta 0:00:01\r\u001b[K     |██████████████████████▌         | 1.6 MB 24.5 MB/s eta 0:00:01\r\u001b[K     |██████████████████████▋         | 1.6 MB 24.5 MB/s eta 0:00:01\r\u001b[K     |██████████████████████▊         | 1.6 MB 24.5 MB/s eta 0:00:01\r\u001b[K     |███████████████████████         | 1.6 MB 24.5 MB/s eta 0:00:01\r\u001b[K     |███████████████████████         | 1.6 MB 24.5 MB/s eta 0:00:01\r\u001b[K     |███████████████████████▏        | 1.6 MB 24.5 MB/s eta 0:00:01\r\u001b[K     |███████████████████████▍        | 1.6 MB 24.5 MB/s eta 0:00:01\r\u001b[K     |███████████████████████▌        | 1.7 MB 24.5 MB/s eta 0:00:01\r\u001b[K     |███████████████████████▋        | 1.7 MB 24.5 MB/s eta 0:00:01\r\u001b[K     |███████████████████████▊        | 1.7 MB 24.5 MB/s eta 0:00:01\r\u001b[K     |████████████████████████        | 1.7 MB 24.5 MB/s eta 0:00:01\r\u001b[K     |████████████████████████        | 1.7 MB 24.5 MB/s eta 0:00:01\r\u001b[K     |████████████████████████▏       | 1.7 MB 24.5 MB/s eta 0:00:01\r\u001b[K     |████████████████████████▍       | 1.7 MB 24.5 MB/s eta 0:00:01\r\u001b[K     |████████████████████████▌       | 1.7 MB 24.5 MB/s eta 0:00:01\r\u001b[K     |████████████████████████▋       | 1.7 MB 24.5 MB/s eta 0:00:01\r\u001b[K     |████████████████████████▉       | 1.8 MB 24.5 MB/s eta 0:00:01\r\u001b[K     |█████████████████████████       | 1.8 MB 24.5 MB/s eta 0:00:01\r\u001b[K     |█████████████████████████       | 1.8 MB 24.5 MB/s eta 0:00:01\r\u001b[K     |█████████████████████████▎      | 1.8 MB 24.5 MB/s eta 0:00:01\r\u001b[K     |█████████████████████████▍      | 1.8 MB 24.5 MB/s eta 0:00:01\r\u001b[K     |█████████████████████████▌      | 1.8 MB 24.5 MB/s eta 0:00:01\r\u001b[K     |█████████████████████████▋      | 1.8 MB 24.5 MB/s eta 0:00:01\r\u001b[K     |█████████████████████████▉      | 1.8 MB 24.5 MB/s eta 0:00:01\r\u001b[K     |██████████████████████████      | 1.8 MB 24.5 MB/s eta 0:00:01\r\u001b[K     |██████████████████████████      | 1.8 MB 24.5 MB/s eta 0:00:01\r\u001b[K     |██████████████████████████▎     | 1.9 MB 24.5 MB/s eta 0:00:01\r\u001b[K     |██████████████████████████▍     | 1.9 MB 24.5 MB/s eta 0:00:01\r\u001b[K     |██████████████████████████▌     | 1.9 MB 24.5 MB/s eta 0:00:01\r\u001b[K     |██████████████████████████▊     | 1.9 MB 24.5 MB/s eta 0:00:01\r\u001b[K     |██████████████████████████▉     | 1.9 MB 24.5 MB/s eta 0:00:01\r\u001b[K     |███████████████████████████     | 1.9 MB 24.5 MB/s eta 0:00:01\r\u001b[K     |███████████████████████████     | 1.9 MB 24.5 MB/s eta 0:00:01\r\u001b[K     |███████████████████████████▎    | 1.9 MB 24.5 MB/s eta 0:00:01\r\u001b[K     |███████████████████████████▍    | 1.9 MB 24.5 MB/s eta 0:00:01\r\u001b[K     |███████████████████████████▌    | 1.9 MB 24.5 MB/s eta 0:00:01\r\u001b[K     |███████████████████████████▊    | 2.0 MB 24.5 MB/s eta 0:00:01\r\u001b[K     |███████████████████████████▉    | 2.0 MB 24.5 MB/s eta 0:00:01\r\u001b[K     |████████████████████████████    | 2.0 MB 24.5 MB/s eta 0:00:01\r\u001b[K     |████████████████████████████▏   | 2.0 MB 24.5 MB/s eta 0:00:01\r\u001b[K     |████████████████████████████▎   | 2.0 MB 24.5 MB/s eta 0:00:01\r\u001b[K     |████████████████████████████▍   | 2.0 MB 24.5 MB/s eta 0:00:01\r\u001b[K     |████████████████████████████▋   | 2.0 MB 24.5 MB/s eta 0:00:01\r\u001b[K     |████████████████████████████▊   | 2.0 MB 24.5 MB/s eta 0:00:01\r\u001b[K     |████████████████████████████▉   | 2.0 MB 24.5 MB/s eta 0:00:01\r\u001b[K     |█████████████████████████████   | 2.0 MB 24.5 MB/s eta 0:00:01\r\u001b[K     |█████████████████████████████▏  | 2.1 MB 24.5 MB/s eta 0:00:01\r\u001b[K     |█████████████████████████████▎  | 2.1 MB 24.5 MB/s eta 0:00:01\r\u001b[K     |█████████████████████████████▍  | 2.1 MB 24.5 MB/s eta 0:00:01\r\u001b[K     |█████████████████████████████▋  | 2.1 MB 24.5 MB/s eta 0:00:01\r\u001b[K     |█████████████████████████████▊  | 2.1 MB 24.5 MB/s eta 0:00:01\r\u001b[K     |█████████████████████████████▉  | 2.1 MB 24.5 MB/s eta 0:00:01\r\u001b[K     |██████████████████████████████  | 2.1 MB 24.5 MB/s eta 0:00:01\r\u001b[K     |██████████████████████████████▏ | 2.1 MB 24.5 MB/s eta 0:00:01\r\u001b[K     |██████████████████████████████▎ | 2.1 MB 24.5 MB/s eta 0:00:01\r\u001b[K     |██████████████████████████████▍ | 2.2 MB 24.5 MB/s eta 0:00:01\r\u001b[K     |██████████████████████████████▋ | 2.2 MB 24.5 MB/s eta 0:00:01\r\u001b[K     |██████████████████████████████▊ | 2.2 MB 24.5 MB/s eta 0:00:01\r\u001b[K     |██████████████████████████████▉ | 2.2 MB 24.5 MB/s eta 0:00:01\r\u001b[K     |███████████████████████████████ | 2.2 MB 24.5 MB/s eta 0:00:01\r\u001b[K     |███████████████████████████████▏| 2.2 MB 24.5 MB/s eta 0:00:01\r\u001b[K     |███████████████████████████████▎| 2.2 MB 24.5 MB/s eta 0:00:01\r\u001b[K     |███████████████████████████████▌| 2.2 MB 24.5 MB/s eta 0:00:01\r\u001b[K     |███████████████████████████████▋| 2.2 MB 24.5 MB/s eta 0:00:01\r\u001b[K     |███████████████████████████████▊| 2.2 MB 24.5 MB/s eta 0:00:01\r\u001b[K     |████████████████████████████████| 2.3 MB 24.5 MB/s eta 0:00:01\r\u001b[K     |████████████████████████████████| 2.3 MB 24.5 MB/s \n",
            "\u001b[?25hRequirement already satisfied: keras>=2.0.0 in /usr/local/lib/python3.7/dist-packages (from mtcnn) (2.7.0)\n",
            "Requirement already satisfied: opencv-python>=4.1.0 in /usr/local/lib/python3.7/dist-packages (from mtcnn) (4.1.2.30)\n",
            "Requirement already satisfied: numpy>=1.14.5 in /usr/local/lib/python3.7/dist-packages (from opencv-python>=4.1.0->mtcnn) (1.19.5)\n",
            "Installing collected packages: mtcnn\n",
            "Successfully installed mtcnn-0.1.1\n"
          ]
        }
      ]
    },
    {
      "cell_type": "code",
      "source": [
        "from google.colab import drive\n",
        "drive.mount('/content/drive')"
      ],
      "metadata": {
        "id": "bjtQyMgtwGLA"
      },
      "execution_count": null,
      "outputs": []
    },
    {
      "cell_type": "code",
      "source": [
        "# create the detector, using default weights\n",
        "detector = MTCNN()\n",
        "# detect faces in the image\n",
        "results = detector.detect_faces(pixels)\n"
      ],
      "metadata": {
        "colab": {
          "base_uri": "https://localhost:8080/"
        },
        "id": "HTAIPQrE3AHS",
        "outputId": "2c5bc4e1-80e5-4f9f-ac7b-eb6117c8ecad"
      },
      "execution_count": null,
      "outputs": [
        {
          "output_type": "stream",
          "name": "stdout",
          "text": [
            "WARNING:tensorflow:5 out of the last 9 calls to <function Model.make_predict_function.<locals>.predict_function at 0x7fd963030e60> triggered tf.function retracing. Tracing is expensive and the excessive number of tracings could be due to (1) creating @tf.function repeatedly in a loop, (2) passing tensors with different shapes, (3) passing Python objects instead of tensors. For (1), please define your @tf.function outside of the loop. For (2), @tf.function has experimental_relax_shapes=True option that relaxes argument shapes that can avoid unnecessary retracing. For (3), please refer to https://www.tensorflow.org/guide/function#controlling_retracing and https://www.tensorflow.org/api_docs/python/tf/function for  more details.\n"
          ]
        }
      ]
    },
    {
      "cell_type": "code",
      "source": [
        "\n",
        "# extract the bounding box from the first face\n",
        "x1, y1, width, height = results[0]['box']\n",
        "# bug fix\n",
        "x1, y1 = abs(x1), abs(y1)\n",
        "x2, y2 = x1 + width, y1 + height"
      ],
      "metadata": {
        "id": "ZiM7YC673Ajc"
      },
      "execution_count": null,
      "outputs": []
    },
    {
      "cell_type": "code",
      "source": [
        "# extract the face\n",
        "face = pixels[y1:y2, x1:x2]"
      ],
      "metadata": {
        "id": "OT_l3RVuczHE"
      },
      "execution_count": null,
      "outputs": []
    },
    {
      "cell_type": "code",
      "source": [
        "\n",
        "# resize pixels to the model size\n",
        "image = Image.fromarray(face)\n",
        "image = image.resize((160, 160))\n",
        "face_array = np.array(image)"
      ],
      "metadata": {
        "id": "6z_vKy_uc1hb"
      },
      "execution_count": null,
      "outputs": []
    },
    {
      "cell_type": "code",
      "source": [
        "from random import choice\n",
        "from numpy import load\n",
        "from numpy import expand_dims\n",
        "from sklearn.preprocessing import LabelEncoder\n",
        "from sklearn.preprocessing import Normalizer\n",
        "from sklearn.svm import SVC\n",
        "from matplotlib import pyplot\n",
        "from numpy import savez_compressed\n",
        "from mtcnn import MTCNN\n",
        "from os import listdir\n",
        "from os.path import isdir\n",
        "from PIL import Image\n",
        "from keras.models import load_model\n",
        "import numpy as np\n",
        "from sklearn.metrics import accuracy_score"
      ],
      "metadata": {
        "id": "YXz-8BLYc4BC"
      },
      "execution_count": null,
      "outputs": []
    },
    {
      "cell_type": "code",
      "source": [
        "\n",
        "# load images and extract faces for all images in a directory\n",
        "def load_faces(directory):\n",
        "\tfaces = list()\n",
        "\t# enumerate files\n",
        "\tfor filename in listdir(directory):\n",
        "\t\t# path\n",
        "\t\tpath = directory + filename\n",
        "\t\t# get face\n",
        "\t\tface = extract_face(path)\n",
        "\t\t# store\n",
        "\t\tfaces.append(face)\n",
        "\treturn faces"
      ],
      "metadata": {
        "id": "czuYpuGAax7-"
      },
      "execution_count": null,
      "outputs": []
    },
    {
      "cell_type": "code",
      "source": [
        "# load a dataset that contains one subdir for each class that in turn contains images\n",
        "def load_dataset(directory):\n",
        "\tX, y = list(), list()\n",
        "\t# enumerate folders, on per class\n",
        "\tfor subdir in listdir(directory):\n",
        "\t\t# path\n",
        "\t\tpath = directory + subdir + '/'\n",
        "\t\t# skip any files that might be in the dir\n",
        "\t\tif not isdir(path):\n",
        "\t\t\tcontinue\n",
        "\t\t# load all faces in the subdirectory\n",
        "\t\tfaces = load_faces(path)\n",
        "\t\t# create labels\n",
        "\t\tlabels = [subdir for _ in range(len(faces))]\n",
        "\t\t# summarize progress\n",
        "\t\tprint('>loaded %d examples for class: %s' % (len(faces), subdir))\n",
        "\t\t# store\n",
        "\t\tX.extend(faces)\n",
        "\t\ty.extend(labels)\n",
        "\treturn asarray(X), asarray(y)"
      ],
      "metadata": {
        "id": "S-c2k2oNa0nA"
      },
      "execution_count": null,
      "outputs": []
    },
    {
      "cell_type": "code",
      "source": [
        "\n",
        " \n",
        "# extract a single face from a given photograph\n",
        "def extract_face(filename, required_size=(160, 160)):\n",
        "\t# load image from file\n",
        "\timage = Image.open(filename)\n",
        "\t# convert to RGB, if needed\n",
        "\timage = image.convert('RGB')\n",
        "\t# convert to array\n",
        "\tpixels = np.asarray(image)\n",
        "\t# create the detector, using default weights\n",
        "\tdetector = MTCNN()\n",
        "\t# detect faces in the image\n",
        "\tresults = detector.detect_faces(pixels)\n",
        "\t# extract the bounding box from the first face\n",
        "\tx1, y1, width, height = results[0]['box']\n",
        "\t# bug fix\n",
        "\tx1, y1 = abs(x1), abs(y1)\n",
        "\tx2, y2 = x1 + width, y1 + height\n",
        "\t# extract the face\n",
        "\tface = pixels[y1:y2, x1:x2]\n",
        "\t# resize pixels to the model size\n",
        "\timage = Image.fromarray(face)\n",
        "\timage = image.resize(required_size)\n",
        "\tface_array = np.asarray(image)\n",
        "\treturn face_array\n",
        " \n",
        "# load images and extract faces for all images in a directory\n",
        "def load_faces(directory):\n",
        "\tfaces = list()\n",
        "\t# enumerate files\n",
        "\tfor filename in listdir(directory):\n",
        "\t\t# path\n",
        "\t\tpath = directory + filename\n",
        "\t\t# get face\n",
        "\t\tface = extract_face(path)\n",
        "\t\t# store\n",
        "\t\tfaces.append(face)\n",
        "\treturn faces\n",
        " \n",
        "# load a dataset that contains one subdir for each class that in turn contains images\n",
        "def load_dataset(directory):\n",
        "\tX, y = list(), list()\n",
        "\t# enumerate folders, on per class\n",
        "\tfor subdir in listdir(directory):\n",
        "\t\t# path\n",
        "\t\tpath = directory + subdir + '/'\n",
        "\t\t# load all faces in the subdirectory\n",
        "\t\tfaces = load_faces(path)\n",
        "\t\t# create labels\n",
        "\t\tlabels = [subdir for _ in range(len(faces))]\n",
        "\t\t# summarize progress\n",
        "\t\tprint('>loaded %d examples for class: %s' % (len(faces), subdir))\n",
        "\t\t# store\n",
        "\t\tX.extend(faces)\n",
        "\t\ty.extend(labels)\n",
        "\treturn np.asarray(X), np.asarray(y)\n",
        " \n",
        "# load train dataset\n",
        "trainX, trainy = load_dataset('/content/drive/MyDrive/סייבר כן מעניין/Datasets/traindata/')\n",
        "print(trainX.shape, trainy.shape)\n",
        "# load test dataset\n",
        "testX, testy = load_dataset('/content/drive/MyDrive/סייבר כן מעניין/Datasets/testdata/')\n",
        "# save arrays to one file in compressed format\n",
        "savez_compressed('faceme.npz', trainX, trainy, testX, testy)\n"
      ],
      "metadata": {
        "colab": {
          "base_uri": "https://localhost:8080/"
        },
        "id": "B-Ult_sjbTgj",
        "outputId": "cba1cf49-ff4f-40bf-9a3e-277ad7f53653"
      },
      "execution_count": null,
      "outputs": [
        {
          "output_type": "stream",
          "name": "stdout",
          "text": [
            "WARNING:tensorflow:5 out of the last 9 calls to <function Model.make_predict_function.<locals>.predict_function at 0x7feea3ca8b00> triggered tf.function retracing. Tracing is expensive and the excessive number of tracings could be due to (1) creating @tf.function repeatedly in a loop, (2) passing tensors with different shapes, (3) passing Python objects instead of tensors. For (1), please define your @tf.function outside of the loop. For (2), @tf.function has experimental_relax_shapes=True option that relaxes argument shapes that can avoid unnecessary retracing. For (3), please refer to https://www.tensorflow.org/guide/function#controlling_retracing and https://www.tensorflow.org/api_docs/python/tf/function for  more details.\n",
            ">loaded 1 examples for class: Me\n",
            "WARNING:tensorflow:6 out of the last 10 calls to <function Model.make_predict_function.<locals>.predict_function at 0x7feea53b0170> triggered tf.function retracing. Tracing is expensive and the excessive number of tracings could be due to (1) creating @tf.function repeatedly in a loop, (2) passing tensors with different shapes, (3) passing Python objects instead of tensors. For (1), please define your @tf.function outside of the loop. For (2), @tf.function has experimental_relax_shapes=True option that relaxes argument shapes that can avoid unnecessary retracing. For (3), please refer to https://www.tensorflow.org/guide/function#controlling_retracing and https://www.tensorflow.org/api_docs/python/tf/function for  more details.\n",
            ">loaded 1 examples for class: Illay\n",
            ">loaded 1 examples for class: Fryd\n",
            ">loaded 1 examples for class: Ori\n",
            "(4, 160, 160, 3) (4,)\n",
            ">loaded 1 examples for class: Fryd\n",
            ">loaded 1 examples for class: Illay\n",
            ">loaded 1 examples for class: Me\n",
            ">loaded 1 examples for class: Ori\n"
          ]
        }
      ]
    },
    {
      "cell_type": "code",
      "source": [
        "# calculate a face embedding for each face in the dataset using facenet\n",
        "# get the face embedding for one face\n",
        "def get_embedding(model, face_pixels):\n",
        "\t# scale pixel values\n",
        "\tface_pixels = face_pixels.astype('float32')\n",
        "\t# standardize pixel values across channels (global)\n",
        "\tmean, std = face_pixels.mean(), face_pixels.std()\n",
        "\tface_pixels = (face_pixels - mean) / std\n",
        "\t# transform face into one sample\n",
        "\tsamples = expand_dims(face_pixels, axis=0)\n",
        "\t# make prediction to get embedding\n",
        "\tyhat = model.predict(samples)\n",
        "\treturn yhat[0]\n",
        " \n",
        "# load the face dataset\n",
        "data = load('faceme.npz')\n",
        "trainX, trainy, testX, testy = data['arr_0'], data['arr_1'], data['arr_2'], data['arr_3']\n",
        "print('Loaded: ', trainX.shape, trainy.shape, testX.shape, testy.shape)\n",
        "# load the facenet model\n",
        "model = load_model('/content/drive/MyDrive/keras-facenet/model/facenet_keras.h5')\n",
        "\n",
        "print('Loaded Model')\n",
        "# convert each face in the train set to an embedding\n",
        "newTrainX = list()\n",
        "for face_pixels in trainX:\n",
        "\tembedding = get_embedding(model, face_pixels)\n",
        "\tnewTrainX.append(embedding)\n",
        "newTrainX = np.asarray(newTrainX)\n",
        "print(newTrainX.shape)\n",
        "# convert each face in the test set to an embedding\n",
        "newTestX = list()\n",
        "for face_pixels in testX:\n",
        "\tembedding = get_embedding(model, face_pixels)\n",
        "\tnewTestX.append(embedding)\n",
        "newTestX = np.asarray(newTestX)\n",
        "print(newTestX.shape)\n",
        "# save arrays to one file in compressed format\n",
        "savez_compressed('faceme-embed.npz', newTrainX, trainy, newTestX, testy)"
      ],
      "metadata": {
        "colab": {
          "base_uri": "https://localhost:8080/"
        },
        "id": "XO4hTCgDbZFn",
        "outputId": "5a3a737a-40ad-40fe-dbde-28e10fd4ab95"
      },
      "execution_count": null,
      "outputs": [
        {
          "output_type": "stream",
          "name": "stdout",
          "text": [
            "Loaded:  (4, 160, 160, 3) (4,) (4, 160, 160, 3) (4,)\n",
            "WARNING:tensorflow:No training configuration found in the save file, so the model was *not* compiled. Compile it manually.\n",
            "Loaded Model\n",
            "(4, 128)\n",
            "(4, 128)\n"
          ]
        }
      ]
    },
    {
      "cell_type": "code",
      "source": [
        "# develop a classifier for the 5 Celebrity Faces Dataset\n",
        "# load dataset\n",
        "data = load('faceme-embed.npz')\n",
        "trainX, trainy, testX, testy = data['arr_0'], data['arr_1'], data['arr_2'], data['arr_3']\n",
        "print('Dataset: train=%d, test=%d' % (trainX.shape[0], testX.shape[0]))\n",
        "# normalize input vectors\n",
        "in_encoder = Normalizer(norm='l2')\n",
        "trainX = in_encoder.transform(trainX)\n",
        "testX = in_encoder.transform(testX)\n",
        "# label encode targets\n",
        "out_encoder = LabelEncoder()\n",
        "out_encoder.fit(trainy)\n",
        "trainy = out_encoder.transform(trainy)\n",
        "testy = out_encoder.transform(testy)\n",
        "# fit model\n",
        "model = SVC(kernel='linear', probability=True)\n",
        "model.fit(trainX, trainy)\n",
        "# predict\n",
        "yhat_train = model.predict(trainX)\n",
        "yhat_test = model.predict(testX)\n",
        "# score\n",
        "score_train = accuracy_score(trainy, yhat_train)\n",
        "score_test = accuracy_score(testy, yhat_test)\n",
        "# summarize\n",
        "print('Accuracy: train=%.3f, test=%.3f' % (score_train*100, score_test*100))"
      ],
      "metadata": {
        "colab": {
          "base_uri": "https://localhost:8080/"
        },
        "id": "6yIBMYaIdW9x",
        "outputId": "c2d38437-5291-4525-bdbd-9641168230ed"
      },
      "execution_count": null,
      "outputs": [
        {
          "output_type": "stream",
          "name": "stdout",
          "text": [
            "Dataset: train=4, test=4\n",
            "Accuracy: train=100.000, test=100.000\n"
          ]
        }
      ]
    },
    {
      "cell_type": "code",
      "source": [
        "\n",
        "# develop a classifier for the 5 Celebrity Faces Dataset\n",
        "# load faces\n",
        "data = load('faceme.npz')\n",
        "testX_faces = data['arr_2']\n",
        "# load face embeddings\n",
        "data = load('faceme-embed.npz')\n",
        "trainX, trainy, testX, testy = data['arr_0'], data['arr_1'], data['arr_2'], data['arr_3']\n",
        "# normalize input vectors\n",
        "in_encoder = Normalizer(norm='l2')\n",
        "trainX = in_encoder.transform(trainX)\n",
        "testX = in_encoder.transform(testX)\n",
        "# label encode targets\n",
        "out_encoder = LabelEncoder()\n",
        "out_encoder.fit(trainy)\n",
        "trainy = out_encoder.transform(trainy)\n",
        "testy = out_encoder.transform(testy)\n",
        "# fit model\n",
        "model = SVC(kernel='linear', probability=True)\n",
        "model.fit(trainX, trainy)\n",
        "# test model on a random example from the test dataset\n",
        "selection = choice([i for i in range(testX.shape[0])])\n",
        "random_face_pixels = testX_faces[selection]\n",
        "random_face_emb = testX[selection]\n",
        "random_face_class = testy[selection]\n",
        "random_face_name = out_encoder.inverse_transform([random_face_class])\n",
        "# prediction for the face\n",
        "samples = expand_dims(random_face_emb, axis=0)\n",
        "yhat_class = model.predict(samples)\n",
        "yhat_prob = model.predict_proba(samples)\n",
        "# get name\n",
        "class_index = yhat_class[0]\n",
        "class_probability = yhat_prob[0,class_index] * 100\n",
        "predict_names = out_encoder.inverse_transform(yhat_class)\n",
        "print('Predicted: %s (%.3f)' % (predict_names[0], class_probability))\n",
        "print('Expected: %s' % random_face_name[0])\n",
        "# plot for fun\n",
        "#pyplot.imshow(pixels)\n",
        "title = '%s (%.3f)' % (predict_names[0], class_probability)\n",
        "pyplot.title(title)\n",
        "pyplot.show()"
      ],
      "metadata": {
        "colab": {
          "base_uri": "https://localhost:8080/",
          "height": 316
        },
        "id": "F78oz2L8fJfz",
        "outputId": "d11b6c80-8c16-4cf2-9c85-517132b1f371"
      },
      "execution_count": null,
      "outputs": [
        {
          "output_type": "stream",
          "name": "stdout",
          "text": [
            "Predicted: Fryd (19.187)\n",
            "Expected: Fryd\n"
          ]
        },
        {
          "output_type": "display_data",
          "data": {
            "image/png": "[encoded data removed]",
            "text/plain": [
              "<Figure size 432x288 with 1 Axes>"
            ]
          },
          "metadata": {
            "needs_background": "light"
          }
        }
      ]
    },
    {
      "cell_type": "code",
      "source": [
        ""
      ],
      "metadata": {
        "id": "ew5MfhTAfJoG"
      },
      "execution_count": null,
      "outputs": []
    },
    {
      "cell_type": "code",
      "source": [
        ""
      ],
      "metadata": {
        "id": "fX4_VpcqQ7RD"
      },
      "execution_count": null,
      "outputs": []
    }
  ],
  "metadata": {
    "colab": {
      "collapsed_sections": [],
      "name": "real projee!!",
      "provenance": [],
      "mount_file_id": "1DaDJKBBUG9MqbU_tsIwjZD4LU5GYXQql",
      "authorship_tag": "ABX9TyOcRe2fQxmx6wCSOWcLnCwc",
      "include_colab_link": true
    },
    "kernelspec": {
      "display_name": "Python 3",
      "name": "python3"
    },
    "language_info": {
      "name": "python"
    }
  },
  "nbformat": 4,
  "nbformat_minor": 0
}